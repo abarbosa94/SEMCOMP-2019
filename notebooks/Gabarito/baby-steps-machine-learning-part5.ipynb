{
 "cells": [
  {
   "cell_type": "markdown",
   "metadata": {},
   "source": [
    "# Congratulations!\n",
    "\n",
    "![](https://media.giphy.com/media/ely3apij36BJhoZ234/giphy.gif)\n",
    "\n",
    "\n",
    "\n",
    "A ideia desse notebook é colocar uns passos de onde seguir agora... Mas antes"
   ]
  },
  {
   "cell_type": "markdown",
   "metadata": {},
   "source": [
    "# Que bom, Que pena, Que tal\n",
    "\n",
    "\n",
    "Eu gosto de colher esses feedbacks para poder melhorar de uma próxima vez :)\n",
    "\n",
    "\n",
    "- Que bom??\n",
    "\n",
    "-\n",
    "\n",
    "-\n",
    "\n",
    "-\n",
    "\n",
    "- Que pena??\n",
    "\n",
    "-\n",
    "\n",
    "-\n",
    "\n",
    "-\n",
    "- Que tal??\n",
    "\n",
    "-\n",
    "\n",
    "-\n",
    "\n",
    "-"
   ]
  },
  {
   "cell_type": "markdown",
   "metadata": {},
   "source": [
    "# Para onde ir?\n",
    "\n",
    "Esse workshop se baseou **fortemente** no [mlcourse.ai](https://mlcourse.ai) e no [blog do Matheus Facure](https://matheusfacure.github.io), cientista de dados da nubank. São dois recursos gratuitos para quem quiser entrar mais nos detalhes \n",
    "\n",
    "Além disso:\n",
    "\n",
    "[Estatistica Parte1 Khan Academy](https://pt.khanacademy.org/math/ap-statistics/summarizing-quantitative-data-ap/)\n",
    "\n",
    "[Estatistica Parte2 Khan Academy](https://pt.khanacademy.org/math/ap-statistics/bivariate-data-ap)\n",
    "[Probabilidade Stanford](https://t.co/yTkE8pykgk?amp=1)\n",
    "\n",
    "\n",
    "[Exploratory Data Analysis from mlcourse.ai](https://mlcourse.ai/articles/topic1-exploratory-data-analysis-with-pandas/)\n",
    "[Overview of some data viz from mlcourse.ai](https://mlcourse.ai/articles/topic2-part2-seaborn-plotly/#5.-Demo-assignment)\n",
    "\n",
    "O curso do mlcourse.ai é *muito bom*\n",
    "\n",
    "\n",
    "A seguir tem outros cursos legais \n",
    "\n",
    "[Algebra Linear Khan](https://pt.khanacademy.org/math/linear-algebra)\n",
    "\n",
    "[Algebra Linear MIT](https://t.co/vj5euiYnGa?amp=1)\n",
    "\n",
    "[Calculo Khan](https://pt.khanacademy.org/math/multivariable-calculus)\n",
    "\n",
    "[Machine Learning for Coders](https://course.fast.ai/ml)\n",
    "\n",
    "[Coursera Machine Learning](https://pt.coursera.org/learn/machine-learning)\n",
    "\n",
    "[Curso da Bloomberg](https://bloomberg.github.io/foml/#home)"
   ]
  }
 ],
 "metadata": {
  "kernelspec": {
   "display_name": "Python 3",
   "language": "python",
   "name": "python3"
  },
  "language_info": {
   "codemirror_mode": {
    "name": "ipython",
    "version": 3
   },
   "file_extension": ".py",
   "mimetype": "text/x-python",
   "name": "python",
   "nbconvert_exporter": "python",
   "pygments_lexer": "ipython3",
   "version": "3.6.9"
  },
  "toc": {
   "base_numbering": 1,
   "nav_menu": {},
   "number_sections": true,
   "sideBar": true,
   "skip_h1_title": false,
   "title_cell": "Table of Contents",
   "title_sidebar": "Contents",
   "toc_cell": false,
   "toc_position": {},
   "toc_section_display": true,
   "toc_window_display": true
  }
 },
 "nbformat": 4,
 "nbformat_minor": 2
}
